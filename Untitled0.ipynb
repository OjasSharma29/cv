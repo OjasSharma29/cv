{
  "nbformat": 4,
  "nbformat_minor": 0,
  "metadata": {
    "colab": {
      "name": "Untitled0.ipynb",
      "provenance": [],
      "authorship_tag": "ABX9TyNgI/8TbDYbTqrKUH/CuX45",
      "include_colab_link": true
    },
    "kernelspec": {
      "name": "python3",
      "display_name": "Python 3"
    },
    "language_info": {
      "name": "python"
    }
  },
  "cells": [
    {
      "cell_type": "markdown",
      "metadata": {
        "id": "view-in-github",
        "colab_type": "text"
      },
      "source": [
        "<a href=\"https://colab.research.google.com/github/OjasSharma29/cv/blob/main/Untitled0.ipynb\" target=\"_parent\"><img src=\"https://colab.research.google.com/assets/colab-badge.svg\" alt=\"Open In Colab\"/></a>"
      ]
    },
    {
      "cell_type": "markdown",
      "metadata": {
        "id": "V1Glv1dl52xw"
      },
      "source": [
        "# 1: importing"
      ]
    },
    {
      "cell_type": "code",
      "metadata": {
        "id": "UWSls4Jt3tly"
      },
      "source": [
        "import tensorflow as tf\n",
        "import numpy as np\n",
        "import pandas as pd\n",
        "import matplotlib.pyplot as plt"
      ],
      "execution_count": 3,
      "outputs": []
    },
    {
      "cell_type": "markdown",
      "metadata": {
        "id": "JHhZguk057bw"
      },
      "source": [
        "# 2: Data Preprocessing"
      ]
    },
    {
      "cell_type": "code",
      "metadata": {
        "id": "K3FP14eK6Cg8"
      },
      "source": [
        "# Importing the dataset\n",
        "from tensorflow.keras.datasets import cifar10"
      ],
      "execution_count": 4,
      "outputs": []
    },
    {
      "cell_type": "code",
      "metadata": {
        "colab": {
          "base_uri": "https://localhost:8080/"
        },
        "id": "po9yyDkH6g2H",
        "outputId": "85852513-cc6a-44b8-bcd1-6610875a2fb0"
      },
      "source": [
        "# Loading the dataset\n",
        "(x_train, y_train), (x_test, y_test) = cifar10.load_data()"
      ],
      "execution_count": 5,
      "outputs": [
        {
          "output_type": "stream",
          "name": "stdout",
          "text": [
            "Downloading data from https://www.cs.toronto.edu/~kriz/cifar-10-python.tar.gz\n",
            "170500096/170498071 [==============================] - 2s 0us/step\n",
            "170508288/170498071 [==============================] - 2s 0us/step\n"
          ]
        }
      ]
    },
    {
      "cell_type": "code",
      "metadata": {
        "id": "aJju9rO17FzI"
      },
      "source": [
        "class_names = ['0: airplane', \n",
        "'1: automobile', \n",
        "'2: bird',\n",
        "'3: cat', \n",
        "'4: deer', \n",
        "'5: dog', \n",
        "'6: frog', \n",
        "'7: horse', \n",
        "'8: ship', \n",
        "'9: truck']"
      ],
      "execution_count": 6,
      "outputs": []
    },
    {
      "cell_type": "code",
      "metadata": {
        "colab": {
          "base_uri": "https://localhost:8080/"
        },
        "id": "kbj81KzV73Td",
        "outputId": "c3ad7a90-f721-4fba-c735-5162c0d14d83"
      },
      "source": [
        "print(class_names)"
      ],
      "execution_count": 7,
      "outputs": [
        {
          "output_type": "stream",
          "name": "stdout",
          "text": [
            "['0: airplane', '1: automobile', '2: bird', '3: cat', '4: deer', '5: dog', '6: frog', '7: horse', '8: ship', '9: truck']\n"
          ]
        }
      ]
    },
    {
      "cell_type": "code",
      "metadata": {
        "colab": {
          "base_uri": "https://localhost:8080/"
        },
        "id": "qA6RPq_V77gd",
        "outputId": "4f41306a-6ba7-47f1-a611-73bcd239681f"
      },
      "source": [
        "x_train.max(), x_train.min(), x_train.mean()"
      ],
      "execution_count": 8,
      "outputs": [
        {
          "output_type": "execute_result",
          "data": {
            "text/plain": [
              "(255, 0, 120.70756512369792)"
            ]
          },
          "metadata": {},
          "execution_count": 8
        }
      ]
    },
    {
      "cell_type": "code",
      "metadata": {
        "colab": {
          "base_uri": "https://localhost:8080/"
        },
        "id": "LawIltkY8F7_",
        "outputId": "22795e8d-81e1-439e-c7e4-e50af2d2b437"
      },
      "source": [
        "y_train.max(), y_train.min()"
      ],
      "execution_count": 9,
      "outputs": [
        {
          "output_type": "execute_result",
          "data": {
            "text/plain": [
              "(9, 0)"
            ]
          },
          "metadata": {},
          "execution_count": 9
        }
      ]
    },
    {
      "cell_type": "code",
      "metadata": {
        "colab": {
          "base_uri": "https://localhost:8080/"
        },
        "id": "8opPGR5r8R3S",
        "outputId": "ad39bc84-45ea-440f-82c7-64198a9d29fe"
      },
      "source": [
        "class_names"
      ],
      "execution_count": 10,
      "outputs": [
        {
          "output_type": "execute_result",
          "data": {
            "text/plain": [
              "['0: airplane',\n",
              " '1: automobile',\n",
              " '2: bird',\n",
              " '3: cat',\n",
              " '4: deer',\n",
              " '5: dog',\n",
              " '6: frog',\n",
              " '7: horse',\n",
              " '8: ship',\n",
              " '9: truck']"
            ]
          },
          "metadata": {},
          "execution_count": 10
        }
      ]
    },
    {
      "cell_type": "code",
      "metadata": {
        "id": "0MUz597c8Vte"
      },
      "source": [
        "# Normalising the images\n",
        "x_train = x_train / 255.0\n",
        "x_test = x_test / 255.0"
      ],
      "execution_count": 11,
      "outputs": []
    },
    {
      "cell_type": "code",
      "metadata": {
        "colab": {
          "base_uri": "https://localhost:8080/"
        },
        "id": "eAhFUd7W8gp4",
        "outputId": "7c026cbd-c8b0-4d2e-c982-5bc85ecaf45d"
      },
      "source": [
        "x_train.max(), x_train.min(), x_train.mean()"
      ],
      "execution_count": 12,
      "outputs": [
        {
          "output_type": "execute_result",
          "data": {
            "text/plain": [
              "(1.0, 0.0, 0.4733630004850874)"
            ]
          },
          "metadata": {},
          "execution_count": 12
        }
      ]
    },
    {
      "cell_type": "code",
      "metadata": {
        "colab": {
          "base_uri": "https://localhost:8080/"
        },
        "id": "S9QwO2_Z8sSz",
        "outputId": "bad68388-3207-4f4e-cf10-7d91f827a9b1"
      },
      "source": [
        "x_train.shape, x_test.shape"
      ],
      "execution_count": 13,
      "outputs": [
        {
          "output_type": "execute_result",
          "data": {
            "text/plain": [
              "((50000, 32, 32, 3), (10000, 32, 32, 3))"
            ]
          },
          "metadata": {},
          "execution_count": 13
        }
      ]
    },
    {
      "cell_type": "code",
      "metadata": {
        "colab": {
          "base_uri": "https://localhost:8080/",
          "height": 283
        },
        "id": "CeB7Y5U18zH4",
        "outputId": "06ae9328-2541-4885-da96-58a43eb04f90"
      },
      "source": [
        "plt.imshow(x_train[0])"
      ],
      "execution_count": 14,
      "outputs": [
        {
          "output_type": "execute_result",
          "data": {
            "text/plain": [
              "<matplotlib.image.AxesImage at 0x7ffb32223d50>"
            ]
          },
          "metadata": {},
          "execution_count": 14
        },
        {
          "output_type": "display_data",
          "data": {
            "image/png": "[encoded data removed]",
            "text/plain": [
              "<Figure size 432x288 with 1 Axes>"
            ]
          },
          "metadata": {
            "needs_background": "light"
          }
        }
      ]
    },
    {
      "cell_type": "code",
      "metadata": {
        "colab": {
          "base_uri": "https://localhost:8080/"
        },
        "id": "LOjFao0g9CkZ",
        "outputId": "aa88fda1-b451-478a-ee6e-50ad5062bad0"
      },
      "source": [
        "class_names"
      ],
      "execution_count": 15,
      "outputs": [
        {
          "output_type": "execute_result",
          "data": {
            "text/plain": [
              "['0: airplane',\n",
              " '1: automobile',\n",
              " '2: bird',\n",
              " '3: cat',\n",
              " '4: deer',\n",
              " '5: dog',\n",
              " '6: frog',\n",
              " '7: horse',\n",
              " '8: ship',\n",
              " '9: truck']"
            ]
          },
          "metadata": {},
          "execution_count": 15
        }
      ]
    },
    {
      "cell_type": "markdown",
      "metadata": {
        "id": "Mr3QbyIE9USR"
      },
      "source": [
        "# 3: Building CNN"
      ]
    },
    {
      "cell_type": "code",
      "metadata": {
        "id": "-zZoOMvS9X_2"
      },
      "source": [
        "# Defining the object\n",
        "model = tf.keras.models.Sequential()"
      ],
      "execution_count": 16,
      "outputs": []
    },
    {
      "cell_type": "code",
      "metadata": {
        "id": "DcKQjLE39lOe"
      },
      "source": [
        "# Addng the first CNN layer\n",
        "# 1) filters (kernel) = 32\n",
        "# 2) kernal size = 3\n",
        "# 3) padding = same\n",
        "# 4) ativation = ReLU\n",
        "# 5) input shape = (32, 32, 3)\n",
        "\n",
        "model.add(tf.keras.layers.Conv2D(filters=32, kernel_size=3, padding='same', activation='relu', input_shape=[32,32,3]))"
      ],
      "execution_count": 17,
      "outputs": []
    },
    {
      "cell_type": "code",
      "metadata": {
        "id": "jkADWBYUCKAg"
      },
      "source": [
        "# Adding second CNN layer and maxpool layer\n",
        "# 1) filters (kernel) = 32\n",
        "# 2) kernal size = 3\n",
        "# 3) padding = same\n",
        "# 4) activation = ReLU\n",
        "\n",
        "model.add(tf.keras.layers.Conv2D(filters=32, kernel_size=3, padding='same', activation='relu'))\n",
        "\n",
        "# maxpool layer parameters\n",
        "# 1) pool size = 2\n",
        "# 2)strides = 2\n",
        "# 3) padding = valid\n",
        "\n",
        "model.add(tf.keras.layers.MaxPool2D(pool_size=2, strides=2, padding='valid'))"
      ],
      "execution_count": 18,
      "outputs": []
    },
    {
      "cell_type": "code",
      "metadata": {
        "id": "-e4vr9oIDU9T"
      },
      "source": [
        "# Adding third layer\n",
        "# 1) filters (kernel) = 32\n",
        "# 2) kernal size = 3\n",
        "# 3) padding = same\n",
        "# 4) activation = ReLU\n",
        "\n",
        "model.add(tf.keras.layers.Conv2D(filters=64, kernel_size=3, padding='same', activation='relu', input_shape=[32,32,3]))"
      ],
      "execution_count": 19,
      "outputs": []
    },
    {
      "cell_type": "code",
      "metadata": {
        "id": "nftxJIo9DkBu"
      },
      "source": [
        "# Adding fourth CNN layer and maxpool layer\n",
        "# 1) filters (kernel) = 64\n",
        "# 2) kernal size = 3\n",
        "# 3) padding = same\n",
        "# 4) activation = ReLU\n",
        "\n",
        "model.add(tf.keras.layers.Conv2D(filters=64, kernel_size=3, padding='same', activation='relu'))\n",
        "\n",
        "# maxpool layer parameters\n",
        "# 1) pool size = 2\n",
        "# 2)strides = 2\n",
        "# 3) padding = valid\n",
        "\n",
        "model.add(tf.keras.layers.MaxPool2D(pool_size=2, strides=2, padding='valid'))"
      ],
      "execution_count": 20,
      "outputs": []
    },
    {
      "cell_type": "code",
      "metadata": {
        "id": "lu-GcvxMDz17"
      },
      "source": [
        "# Adding the dropout layer\n",
        "model.add(tf.keras.layers.Dropout(0.3))"
      ],
      "execution_count": 21,
      "outputs": []
    },
    {
      "cell_type": "code",
      "metadata": {
        "id": "NXs3csncEEFV"
      },
      "source": [
        "# Adding the Flattenng layer\n",
        "model.add(tf.keras.layers.Flatten())"
      ],
      "execution_count": 22,
      "outputs": []
    },
    {
      "cell_type": "code",
      "metadata": {
        "id": "E_ms6wvREMGh"
      },
      "source": [
        "# Adding first dense layer\n",
        "model.add(tf.keras.layers.Dense(units=128, activation='relu'))"
      ],
      "execution_count": 23,
      "outputs": []
    },
    {
      "cell_type": "code",
      "metadata": {
        "id": "T0fR1rqnEpaS"
      },
      "source": [
        "# Adding the second dense layer (output layer)\n",
        "model.add(tf.keras.layers.Dense(units=10, activation='softmax'))"
      ],
      "execution_count": 24,
      "outputs": []
    },
    {
      "cell_type": "code",
      "metadata": {
        "colab": {
          "base_uri": "https://localhost:8080/"
        },
        "id": "NSPF2el1E7Cc",
        "outputId": "82f3c617-2a9d-4f11-a554-07fa14d56768"
      },
      "source": [
        "model.summary()"
      ],
      "execution_count": 25,
      "outputs": [
        {
          "output_type": "stream",
          "name": "stdout",
          "text": [
            "Model: \"sequential\"\n",
            "_________________________________________________________________\n",
            "Layer (type)                 Output Shape              Param #   \n",
            "=================================================================\n",
            "conv2d (Conv2D)              (None, 32, 32, 32)        896       \n",
            "_________________________________________________________________\n",
            "conv2d_1 (Conv2D)            (None, 32, 32, 32)        9248      \n",
            "_________________________________________________________________\n",
            "max_pooling2d (MaxPooling2D) (None, 16, 16, 32)        0         \n",
            "_________________________________________________________________\n",
            "conv2d_2 (Conv2D)            (None, 16, 16, 64)        18496     \n",
            "_________________________________________________________________\n",
            "conv2d_3 (Conv2D)            (None, 16, 16, 64)        36928     \n",
            "_________________________________________________________________\n",
            "max_pooling2d_1 (MaxPooling2 (None, 8, 8, 64)          0         \n",
            "_________________________________________________________________\n",
            "dropout (Dropout)            (None, 8, 8, 64)          0         \n",
            "_________________________________________________________________\n",
            "flatten (Flatten)            (None, 4096)              0         \n",
            "_________________________________________________________________\n",
            "dense (Dense)                (None, 128)               524416    \n",
            "_________________________________________________________________\n",
            "dense_1 (Dense)              (None, 10)                1290      \n",
            "=================================================================\n",
            "Total params: 591,274\n",
            "Trainable params: 591,274\n",
            "Non-trainable params: 0\n",
            "_________________________________________________________________\n"
          ]
        }
      ]
    },
    {
      "cell_type": "markdown",
      "metadata": {
        "id": "9wQZx16zLPpy"
      },
      "source": [
        "# 4: Training the model"
      ]
    },
    {
      "cell_type": "code",
      "metadata": {
        "id": "53hcVZYxLS76"
      },
      "source": [
        "# Compiling the model\n",
        "model.compile(loss='sparse_categorical_crossentropy', optimizer='adam', metrics=['sparse_categorical_accuracy'])"
      ],
      "execution_count": 26,
      "outputs": []
    },
    {
      "cell_type": "code",
      "metadata": {
        "colab": {
          "base_uri": "https://localhost:8080/"
        },
        "id": "6NbeU8DoNG3p",
        "outputId": "e10df8b4-39d3-48d7-e889-52609fdb6b42"
      },
      "source": [
        "model.fit(x_train, y_train, batch_size=10, epochs=10)"
      ],
      "execution_count": 29,
      "outputs": [
        {
          "output_type": "stream",
          "name": "stdout",
          "text": [
            "Epoch 1/10\n",
            "5000/5000 [==============================] - 275s 55ms/step - loss: 1.0948 - sparse_categorical_accuracy: 0.6109\n",
            "Epoch 2/10\n",
            "5000/5000 [==============================] - 277s 55ms/step - loss: 0.8982 - sparse_categorical_accuracy: 0.6822\n",
            "Epoch 3/10\n",
            "5000/5000 [==============================] - 278s 56ms/step - loss: 0.7819 - sparse_categorical_accuracy: 0.7251\n",
            "Epoch 4/10\n",
            "5000/5000 [==============================] - 279s 56ms/step - loss: 0.7005 - sparse_categorical_accuracy: 0.7530\n",
            "Epoch 5/10\n",
            "5000/5000 [==============================] - 278s 56ms/step - loss: 0.6394 - sparse_categorical_accuracy: 0.7735\n",
            "Epoch 6/10\n",
            "5000/5000 [==============================] - 283s 57ms/step - loss: 0.5793 - sparse_categorical_accuracy: 0.7948\n",
            "Epoch 7/10\n",
            "5000/5000 [==============================] - 282s 56ms/step - loss: 0.5435 - sparse_categorical_accuracy: 0.8073\n",
            "Epoch 8/10\n",
            "5000/5000 [==============================] - 279s 56ms/step - loss: 0.5002 - sparse_categorical_accuracy: 0.8216\n",
            "Epoch 9/10\n",
            "5000/5000 [==============================] - 278s 56ms/step - loss: 0.4684 - sparse_categorical_accuracy: 0.8344\n",
            "Epoch 10/10\n",
            "5000/5000 [==============================] - 278s 56ms/step - loss: 0.4427 - sparse_categorical_accuracy: 0.8437\n"
          ]
        },
        {
          "output_type": "execute_result",
          "data": {
            "text/plain": [
              "<keras.callbacks.History at 0x7ffb2783ea50>"
            ]
          },
          "metadata": {},
          "execution_count": 29
        }
      ]
    },
    {
      "cell_type": "markdown",
      "metadata": {
        "id": "itXXvsQUBBKo"
      },
      "source": [
        "# 5: Model avaluation and prediction"
      ]
    },
    {
      "cell_type": "code",
      "metadata": {
        "colab": {
          "base_uri": "https://localhost:8080/"
        },
        "id": "YsSqcXBNBIFN",
        "outputId": "33edb126-c8e7-494b-bbd3-47ba97bf099b"
      },
      "source": [
        "# evaluate the model performance\n",
        "test_loss, test_acc = model.evaluate(x_test, y_test)"
      ],
      "execution_count": 30,
      "outputs": [
        {
          "output_type": "stream",
          "name": "stdout",
          "text": [
            "313/313 [==============================] - 11s 36ms/step - loss: 0.8363 - sparse_categorical_accuracy: 0.7419\n"
          ]
        }
      ]
    },
    {
      "cell_type": "code",
      "metadata": {
        "id": "c3xKIaT4QFYi"
      },
      "source": [
        "# Predictions\n",
        "x_pred = model(x_test)\n",
        "y_pred = np.argmax(x_pred,axis=1)"
      ],
      "execution_count": 32,
      "outputs": []
    },
    {
      "cell_type": "code",
      "metadata": {
        "colab": {
          "base_uri": "https://localhost:8080/"
        },
        "id": "-MZPjr0KQkI2",
        "outputId": "1b0abe08-2cbf-4377-c48f-489cb3c490a4"
      },
      "source": [
        "print(y_pred[105]), print(y_test[105])"
      ],
      "execution_count": 37,
      "outputs": [
        {
          "output_type": "stream",
          "name": "stdout",
          "text": [
            "1\n",
            "[1]\n"
          ]
        },
        {
          "output_type": "execute_result",
          "data": {
            "text/plain": [
              "(None, None)"
            ]
          },
          "metadata": {},
          "execution_count": 37
        }
      ]
    },
    {
      "cell_type": "code",
      "metadata": {
        "colab": {
          "base_uri": "https://localhost:8080/"
        },
        "id": "OILkYdUHQ8pR",
        "outputId": "43eba141-0b26-4747-c093-0c7a134e1c7e"
      },
      "source": [
        "# Confusion matrix\n",
        "from sklearn.metrics import confusion_matrix, accuracy_score\n",
        "cm = confusion_matrix(y_test, y_pred)\n",
        "print(cm)"
      ],
      "execution_count": 40,
      "outputs": [
        {
          "output_type": "stream",
          "name": "stdout",
          "text": [
            "[[718  14  84  26  17   8  11  12  56  54]\n",
            " [ 11 838   9   6   1   5   3   0  14 113]\n",
            " [ 48   7 674  66  73  30  48  33   9  12]\n",
            " [ 11   4  68 581  68 144  51  44   4  25]\n",
            " [ 16   4  78  56 704  20  36  75   6   5]\n",
            " [  8   4  68 186  42 590  23  60   7  12]\n",
            " [  6   9  53  72  37   9 785   9   4  16]\n",
            " [ 12   3  30  47  45  33   3 807   5  15]\n",
            " [ 56  32  21  10   4   5  12   6 818  36]\n",
            " [ 14  33   6  11   1   4   4   6  17 904]]\n"
          ]
        }
      ]
    }
  ]
}